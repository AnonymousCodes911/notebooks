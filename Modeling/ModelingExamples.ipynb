{
 "cells": [
  {
   "cell_type": "markdown",
   "metadata": {
    "collapsed": true,
    "deletable": true,
    "editable": true
   },
   "source": [
    "# The Stingray Modeling API Explained\n",
    "\n",
    "Some more in-depth explanations of how the Stingray modeling API works.\n",
    "\n",
    "## Some background\n",
    "\n",
    "Modeling power spectra and light curves with parametric models is a fairly standard task. Stingray aims to make solving these problems as easy as possible. \n",
    "\n",
    "We aim to integrate our existing code with `astropy.modeling` for for maximum compatibility. Please note, however, that we are only using the models, not the fitting interface, which is too constrained for our purposes. \n",
    "\n"
   ]
  },
  {
   "cell_type": "code",
   "execution_count": 57,
   "metadata": {
    "collapsed": true,
    "deletable": true,
    "editable": true
   },
   "outputs": [],
   "source": [
    "%matplotlib inline\n",
    "import matplotlib.pyplot as plt\n",
    "\n",
    "try:\n",
    "    import seaborn as sns\n",
    "    sns.set_palette(\"colorblind\")\n",
    "except ImportError:\n",
    "    print(\"Install seaborn. It help you make prettier figures!\")\n",
    "\n",
    "import numpy as np\n",
    "\n",
    "from astropy.modeling import models"
   ]
  },
  {
   "cell_type": "markdown",
   "metadata": {
    "deletable": true,
    "editable": true
   },
   "source": [
    "The models and API of `astropy.modeling.models` is explained in the [astropy documentation](http://docs.astropy.org/en/stable/modeling/)in more detail.\n",
    "\n",
    "Here's how you instantiate a simple 1-D Gaussian:"
   ]
  },
  {
   "cell_type": "code",
   "execution_count": 2,
   "metadata": {
    "collapsed": true,
    "deletable": true,
    "editable": true
   },
   "outputs": [],
   "source": [
    "g = models.Gaussian1D()"
   ]
  },
  {
   "cell_type": "code",
   "execution_count": 3,
   "metadata": {
    "collapsed": false,
    "deletable": true,
    "editable": true
   },
   "outputs": [
    {
     "data": {
      "text/plain": [
       "<Container object of 3 artists>"
      ]
     },
     "execution_count": 3,
     "metadata": {},
     "output_type": "execute_result"
    },
    {
     "data": {
      "image/png": "[encoded data removed]",
      "text/plain": [
       "<matplotlib.figure.Figure at 0x116890208>"
      ]
     },
     "metadata": {},
     "output_type": "display_data"
    }
   ],
   "source": [
    "# Generate fake data\n",
    "np.random.seed(0)\n",
    "x = np.linspace(-5., 5., 200)\n",
    "y = 3 * np.exp(-0.5 * (x - 1.3)**2 / 0.8**2)\n",
    "y += np.random.normal(0., 0.2, x.shape)\n",
    "yerr = 0.2\n",
    "\n",
    "plt.figure(figsize=(8,5))\n",
    "plt.errorbar(x, y, yerr=yerr, fmt='ko')\n"
   ]
  },
  {
   "cell_type": "markdown",
   "metadata": {
    "deletable": true,
    "editable": true
   },
   "source": [
    "## Likelihoods and Posteriors\n",
    "\n",
    "In general, model fitting will happen either in a frequentist (Maximum Likelihood) or Bayesian framework. Stingray's strategy is to let the user define a posterior in both cases, but ignore the prior in the former case. \n",
    "\n",
    "Let's first make some fake data:"
   ]
  },
  {
   "cell_type": "code",
   "execution_count": 4,
   "metadata": {
    "collapsed": true,
    "deletable": true,
    "editable": true
   },
   "outputs": [],
   "source": [
    "# define power law component\n",
    "pl = models.PowerLaw1D()\n",
    "\n",
    "# fix x_0 of power law component\n",
    "pl.x_0.fixed = True\n",
    "\n",
    "# define constant\n",
    "c = models.Const1D()\n",
    "\n",
    "# make compound model\n",
    "plc = pl + c"
   ]
  },
  {
   "cell_type": "markdown",
   "metadata": {
    "deletable": true,
    "editable": true
   },
   "source": [
    "We're going to pick some fairly standard parameters for our data:"
   ]
  },
  {
   "cell_type": "code",
   "execution_count": 5,
   "metadata": {
    "collapsed": true,
    "deletable": true,
    "editable": true
   },
   "outputs": [],
   "source": [
    "# parameters for fake data.\n",
    "alpha = 2.0\n",
    "amplitude = 5.0\n",
    "white_noise = 2.0"
   ]
  },
  {
   "cell_type": "markdown",
   "metadata": {
    "deletable": true,
    "editable": true
   },
   "source": [
    "And now a frequency array:"
   ]
  },
  {
   "cell_type": "code",
   "execution_count": 6,
   "metadata": {
    "collapsed": false,
    "deletable": true,
    "editable": true
   },
   "outputs": [
    {
     "name": "stderr",
     "output_type": "stream",
     "text": [
      "/opt/local/Library/Frameworks/Python.framework/Versions/3.5/lib/python3.5/site-packages/ipykernel/__main__.py:1: DeprecationWarning: object of type <class 'float'> cannot be safely interpreted as an integer.\n",
      "  if __name__ == '__main__':\n"
     ]
    }
   ],
   "source": [
    "freq = np.linspace(0.01, 10.0, 10.0/0.01)"
   ]
  },
  {
   "cell_type": "markdown",
   "metadata": {
    "deletable": true,
    "editable": true
   },
   "source": [
    "Now we can set the parameters in the model:"
   ]
  },
  {
   "cell_type": "code",
   "execution_count": 7,
   "metadata": {
    "collapsed": false,
    "deletable": true,
    "editable": true
   },
   "outputs": [],
   "source": [
    "from astropy.modeling.fitting import _fitter_to_model_params\n",
    "\n",
    "_fitter_to_model_params(plc, [amplitude, alpha, white_noise])\n"
   ]
  },
  {
   "cell_type": "code",
   "execution_count": 8,
   "metadata": {
    "collapsed": false,
    "deletable": true,
    "editable": true
   },
   "outputs": [],
   "source": [
    "psd_shape = plc(freq)"
   ]
  },
  {
   "cell_type": "markdown",
   "metadata": {
    "deletable": true,
    "editable": true
   },
   "source": [
    "As a last step, we need to add noise by picking from a chi-square distribution with 2 degrees of freedom:"
   ]
  },
  {
   "cell_type": "code",
   "execution_count": 9,
   "metadata": {
    "collapsed": true,
    "deletable": true,
    "editable": true
   },
   "outputs": [],
   "source": [
    "powers = psd_shape*np.random.chisquare(2, size=psd_shape.shape[0])/2.0"
   ]
  },
  {
   "cell_type": "markdown",
   "metadata": {
    "deletable": true,
    "editable": true
   },
   "source": [
    "Let's plot the result:"
   ]
  },
  {
   "cell_type": "code",
   "execution_count": 10,
   "metadata": {
    "collapsed": false,
    "deletable": true,
    "editable": true
   },
   "outputs": [
    {
     "data": {
      "text/plain": [
       "<matplotlib.legend.Legend at 0x1169a4a58>"
      ]
     },
     "execution_count": 10,
     "metadata": {},
     "output_type": "execute_result"
    },
    {
     "data": {
      "image/png": "[encoded data removed]",
      "text/plain": [
       "<matplotlib.figure.Figure at 0x116a06e48>"
      ]
     },
     "metadata": {},
     "output_type": "display_data"
    }
   ],
   "source": [
    "plt.figure(figsize=(12,7))\n",
    "plt.loglog(freq, psd_shape, label=\"power spectrum\")\n",
    "plt.loglog(freq, powers, linestyle=\"steps-mid\", label=\"periodogram realization\")\n",
    "plt.legend()"
   ]
  },
  {
   "cell_type": "markdown",
   "metadata": {
    "deletable": true,
    "editable": true
   },
   "source": [
    "## Maximum Likelihood Fitting\n",
    "\n",
    "Let's assume we've observed this periodogram from our source. We would now like to estimate the parameters. \n",
    "This requires the definition of *likelihood*, which describes the probability of observing the data plotted above given some underlying model with a specific set of parameters. To say it differently, the likelihood encodes what we know about the underlying model (here a power law and a constant) and the statistical properties of the data (power spectra generally follow a chi-square distribution) and then allows us to compare data and model for various parameters under the assumption of the statistical uncertainties.\n",
    "\n",
    "In order to find the best parameter set, one generally maximizes the likelihood function using an optimization algorithm. Because optimization algorithms generally *minimize* functions, they effectively minimize the log-likelihood, which comes out to be the same as maximizing the likelihood itself.\n",
    "\n",
    "Below is an implementation of the $\\chi^2$ likelihood as appropriate for power spectral analysis, with comments for easier understanding. The same is also implemented in `posterior.py` in Stingray:"
   ]
  },
  {
   "cell_type": "code",
   "execution_count": 11,
   "metadata": {
    "collapsed": false,
    "deletable": true,
    "editable": true
   },
   "outputs": [],
   "source": [
    "logmin = -1e16\n",
    "class PSDLogLikelihood(object):\n",
    "\n",
    "    def __init__(self, x, y, model, m=1):\n",
    "        \"\"\"\n",
    "        A Chi-square likelihood as appropriate for power spectral analysis.\n",
    "\n",
    "        Parameters\n",
    "        ----------\n",
    "        x : iterable\n",
    "            x-coordinate of the data\n",
    "\n",
    "        y : iterable\n",
    "            y-coordinte of the data\n",
    "\n",
    "        model: an Astropy Model instance\n",
    "            The model to use in the likelihood.\n",
    "\n",
    "        m : int\n",
    "            1/2 of the degrees of freedom, i.e. the number of powers \n",
    "            that were averaged to obtain the power spectrum input into \n",
    "            this routine.\n",
    "\n",
    "        \"\"\"\n",
    "        self.x = x # the x-coordinate of the data (frequency array)\n",
    "        self.y = y # the y-coordinate of the data (powers)\n",
    "        self.model = model # an astropy.models instance\n",
    "        self.m = m # 1/2 of the degrees of freedom; \n",
    "        \n",
    "        self.params = [k for k,l in self.model.fixed.items() if not l]\n",
    "        self.npar = len(self.params) # number of free parameters\n",
    "\n",
    "    def evaluate(self, pars, neg=False):\n",
    "        \"\"\"\n",
    "        Evaluate the log-likelihood.\n",
    "        \n",
    "        Parameters\n",
    "        ----------\n",
    "        pars : iterable\n",
    "            The list of parameters for which to evaluate the model.\n",
    "            \n",
    "        neg : bool, default False\n",
    "            If True, compute the *negative* log-likelihood, otherwise \n",
    "            compute the *positive* log-likelihood.\n",
    "        \n",
    "        Returns\n",
    "        -------\n",
    "        loglike : float\n",
    "            The log-likelihood of the model\n",
    "        \n",
    "        \"\"\"\n",
    "        # raise an error if the length of the parameter array input into \n",
    "        # this method doesn't match the number of free parameters in the model\n",
    "        if np.size(pars) != self.npar:\n",
    "            raise Exception(\"Input parameters must\" +\n",
    "                            \" match model parameters!\")\n",
    "\n",
    "        # set parameters in self.model to the parameter set to be used for \n",
    "        # evaluation\n",
    "        _fitter_to_model_params(self.model, pars)\n",
    "\n",
    "        # compute the values of the model at the positions self.x\n",
    "        mean_model = self.model(self.x)\n",
    "\n",
    "        # if the power spectrum isn't averaged, compute simple exponential \n",
    "        # likelihood (chi-square likelihood for 2 degrees of freedom)\n",
    "        if self.m == 1:\n",
    "            loglike = -np.sum(np.log(mean_model)) - \\\n",
    "                      np.sum(self.y/mean_model)\n",
    "        # otherwise use chi-square distribution to compute likelihood\n",
    "        else:\n",
    "            loglike = -2.0*self.m*(np.sum(np.log(mean_model)) +\n",
    "                               np.sum(self.y/mean_model) +\n",
    "                               np.sum((2.0 / (2. * self.m) - 1.0) *\n",
    "                                      np.log(self.y)))\n",
    "\n",
    "        if not np.isfinite(loglike):\n",
    "            loglike = logmin\n",
    "\n",
    "        if neg:\n",
    "            return -loglike\n",
    "        else:\n",
    "            return loglike\n",
    "        \n",
    "    def __call__(self, parameters, neg=True):\n",
    "        return self.evaluate(parameters, neg)\n"
   ]
  },
  {
   "cell_type": "markdown",
   "metadata": {
    "deletable": true,
    "editable": true
   },
   "source": [
    "Let's make an object and see what it calculates if we put in different parameter sets:"
   ]
  },
  {
   "cell_type": "code",
   "execution_count": 12,
   "metadata": {
    "collapsed": true,
    "deletable": true,
    "editable": true
   },
   "outputs": [],
   "source": [
    "loglike = PSDLogLikelihood(freq, powers, plc, m=1)"
   ]
  },
  {
   "cell_type": "code",
   "execution_count": 13,
   "metadata": {
    "collapsed": false,
    "deletable": true,
    "editable": true
   },
   "outputs": [
    {
     "data": {
      "text/plain": [
       "4835.8821484746204"
      ]
     },
     "execution_count": 13,
     "metadata": {},
     "output_type": "execute_result"
    }
   ],
   "source": [
    "test_pars = [1, 5, 100]\n",
    "loglike(test_pars)"
   ]
  },
  {
   "cell_type": "code",
   "execution_count": 14,
   "metadata": {
    "collapsed": false,
    "deletable": true,
    "editable": true
   },
   "outputs": [
    {
     "data": {
      "text/plain": [
       "2869.5582486265116"
      ]
     },
     "execution_count": 14,
     "metadata": {},
     "output_type": "execute_result"
    }
   ],
   "source": [
    "test_pars = [4.0, 10, 2.5]\n",
    "loglike(test_pars)"
   ]
  },
  {
   "cell_type": "code",
   "execution_count": 15,
   "metadata": {
    "collapsed": false,
    "deletable": true,
    "editable": true
   },
   "outputs": [
    {
     "data": {
      "text/plain": [
       "2375.704120812954"
      ]
     },
     "execution_count": 15,
     "metadata": {},
     "output_type": "execute_result"
    }
   ],
   "source": [
    "test_pars = [2.0, 5.0, 2.0]\n",
    "loglike(test_pars)"
   ]
  },
  {
   "cell_type": "markdown",
   "metadata": {
    "deletable": true,
    "editable": true
   },
   "source": [
    "Something close to the parameters we put in should yield the largest log-likelihood. Feel free to play around with the test parameters to verify that this is true.\n",
    "\n",
    "You can similarly import the `PSDLogLikelihood` class from `stingray.modeling` and do the same:\n",
    "\n"
   ]
  },
  {
   "cell_type": "code",
   "execution_count": 16,
   "metadata": {
    "collapsed": false,
    "deletable": true,
    "editable": true
   },
   "outputs": [
    {
     "data": {
      "text/plain": [
       "-2375.704120812954"
      ]
     },
     "execution_count": 16,
     "metadata": {},
     "output_type": "execute_result"
    }
   ],
   "source": [
    "from stingray.modeling import PSDLogLikelihood\n",
    "\n",
    "loglike = PSDLogLikelihood(freq, powers, plc, m=1)\n",
    "loglike(test_pars)"
   ]
  },
  {
   "cell_type": "markdown",
   "metadata": {
    "deletable": true,
    "editable": true
   },
   "source": [
    "To estimate the parameters, we can an optimization routine, such as those implemented in `scipy.optimize.minimize`.\n",
    "We have wrapped some code around that, to make your lives easier. We will not reproduce the full code here, just demonstrate its functionality.\n",
    "\n",
    "First, we have to make our sample PSD into an actual `Powerspectrum` object:"
   ]
  },
  {
   "cell_type": "code",
   "execution_count": 17,
   "metadata": {
    "collapsed": true,
    "deletable": true,
    "editable": true
   },
   "outputs": [],
   "source": [
    "from stingray import Powerspectrum"
   ]
  },
  {
   "cell_type": "code",
   "execution_count": 18,
   "metadata": {
    "collapsed": true,
    "deletable": true,
    "editable": true
   },
   "outputs": [],
   "source": [
    "ps = Powerspectrum()\n",
    "ps.freq = freq\n",
    "ps.power = powers\n",
    "ps.df = ps.freq[1] - ps.freq[0]\n",
    "ps.m = 1"
   ]
  },
  {
   "cell_type": "markdown",
   "metadata": {
    "deletable": true,
    "editable": true
   },
   "source": [
    "Now we can instantiate the `PSDParEst` (for PSD Parameter Estimation) object. This can do more than simply optimize a single model, but we'll get to that later.\n",
    "\n",
    "The `PSDParEst` object allows one to specify the fit method to use (however, this must be one of the optimizers in `scipy.optimize`). The parameter `max_post` allows for doing maximum-a-posteriori fits on the Bayesian posterior rather than maximum likelihood fits (see below for more details). We'll set it to `False` for now, since we haven't defined any priors:"
   ]
  },
  {
   "cell_type": "code",
   "execution_count": 31,
   "metadata": {
    "collapsed": true,
    "deletable": true,
    "editable": true
   },
   "outputs": [],
   "source": [
    "from stingray.modeling import PSDParEst\n",
    "\n",
    "parest = PSDParEst(ps, fitmethod=\"L-BFGS-B\", max_post=False)"
   ]
  },
  {
   "cell_type": "markdown",
   "metadata": {
    "deletable": true,
    "editable": true
   },
   "source": [
    "In order to fit a model, simply call the `fit` method with the model and starting parameters you would like to fit."
   ]
  },
  {
   "cell_type": "code",
   "execution_count": 32,
   "metadata": {
    "collapsed": false,
    "deletable": true,
    "editable": true
   },
   "outputs": [
    {
     "name": "stdout",
     "output_type": "stream",
     "text": [
      "npar: 3\n"
     ]
    }
   ],
   "source": [
    "starting_pars = [3.0, 1.0, 2.4]\n",
    "res = parest.fit(plc, starting_pars)"
   ]
  },
  {
   "cell_type": "markdown",
   "metadata": {
    "deletable": true,
    "editable": true
   },
   "source": [
    "The result is an `OptimizationResults` object, which computes various summaries and useful quantities.\n",
    "\n",
    "For example, here's the value of the likelihood function at the maximum the optimizer found:"
   ]
  },
  {
   "cell_type": "code",
   "execution_count": 33,
   "metadata": {
    "collapsed": false,
    "deletable": true,
    "editable": true
   },
   "outputs": [
    {
     "data": {
      "text/plain": [
       "2183.7896770356574"
      ]
     },
     "execution_count": 33,
     "metadata": {},
     "output_type": "execute_result"
    }
   ],
   "source": [
    "res.result"
   ]
  },
  {
   "cell_type": "markdown",
   "metadata": {
    "deletable": true,
    "editable": true
   },
   "source": [
    "**Note**: Optimizers routinely get stuck in *local* minima (corresponding to local maxima of the likelihood function). It is usually useful to run an optimizer several times with different starting parameters in order to get close to the global maximum.\n",
    "\n",
    "Most useful are the estimates of the parameters at the maximum likelihood and their uncertainties:"
   ]
  },
  {
   "cell_type": "code",
   "execution_count": 34,
   "metadata": {
    "collapsed": false,
    "deletable": true,
    "editable": true
   },
   "outputs": [
    {
     "name": "stdout",
     "output_type": "stream",
     "text": [
      "[ 4.72915791  2.09193114  2.10372302]\n",
      "[ 3.74677779  0.7290685   0.54642334]\n"
     ]
    }
   ],
   "source": [
    "print(res.p_opt)\n",
    "print(res.err)"
   ]
  },
  {
   "cell_type": "markdown",
   "metadata": {
    "deletable": true,
    "editable": true
   },
   "source": [
    "**Note**: uncertainties are estimated here via the covariance matrix between parameters, i.e. the inverse of the Hessian at the maximum. This only represents the true uncertainties for specific assumptions about the likelihood function (Gaussianity), so use with care!\n",
    "\n",
    "It also computes Akaike Information Criterion (AIC) and the Bayesian Information Criterion (BIC) for model comparison purposes:"
   ]
  },
  {
   "cell_type": "code",
   "execution_count": 35,
   "metadata": {
    "collapsed": false,
    "deletable": true,
    "editable": true
   },
   "outputs": [
    {
     "name": "stdout",
     "output_type": "stream",
     "text": [
      "AIC: 2189.78967704\n",
      "BIC: 2204.51294287\n"
     ]
    }
   ],
   "source": [
    "print(\"AIC: \" + str(res.aic))\n",
    "print(\"BIC: \" + str(res.bic))"
   ]
  },
  {
   "cell_type": "markdown",
   "metadata": {
    "deletable": true,
    "editable": true
   },
   "source": [
    "Finally, it also produces the values of the mean function for the parameters at the maximum. Let's plot that and compare with the power spectrum we put in:"
   ]
  },
  {
   "cell_type": "code",
   "execution_count": 36,
   "metadata": {
    "collapsed": false,
    "deletable": true,
    "editable": true
   },
   "outputs": [
    {
     "data": {
      "text/plain": [
       "<matplotlib.legend.Legend at 0x1176c69b0>"
      ]
     },
     "execution_count": 36,
     "metadata": {},
     "output_type": "execute_result"
    },
    {
     "data": {
      "image/png": "[encoded data removed]",
      "text/plain": [
       "<matplotlib.figure.Figure at 0x117291208>"
      ]
     },
     "metadata": {},
     "output_type": "display_data"
    }
   ],
   "source": [
    "plt.figure(figsize=(12,8))\n",
    "plt.loglog(ps.freq, psd_shape, label=\"true power spectrum\",lw=3)\n",
    "plt.loglog(ps.freq, ps.power, label=\"simulated data\")\n",
    "plt.loglog(ps.freq, res.mfit, label=\"best fit\", lw=3)\n",
    "plt.legend()"
   ]
  },
  {
   "cell_type": "markdown",
   "metadata": {
    "deletable": true,
    "editable": true
   },
   "source": [
    "That looks pretty good!\n",
    "\n",
    "You can print a summary of the fitting results by calling `print_summary`:"
   ]
  },
  {
   "cell_type": "code",
   "execution_count": 37,
   "metadata": {
    "collapsed": false,
    "deletable": true,
    "editable": true
   },
   "outputs": [
    {
     "name": "stdout",
     "output_type": "stream",
     "text": [
      "The best-fit model parameters plus errors are:\n",
      "0) Parameter amplitude_0: 4.729158.5 +/- 3.746778.5f\n",
      "1) Parameter alpha_0: 2.091931.5 +/- 0.729069.5f\n",
      "2) Parameter amplitude_1: 2.103723.5 +/- 0.546423.5f\n",
      "\n",
      "\n",
      "Fitting statistics: \n",
      " -- number of data points: 1000\n",
      " -- Deviance [-2 log L] D = 4367.579354.3\n",
      " -- The Akaike Information Criterion of the model is: 2189.78967704.\n",
      " -- The Bayesian Information Criterion of the model is: 2204.51294287.\n",
      " -- The figure-of-merit function for this model  is: 1079.683208.5f and the fit for 997 dof is 1.082932.3f\n",
      " -- Summed Residuals S = 69267.044296.5f\n",
      " -- Expected S ~ 6000.000000.5 +/- 109.544512.5\n",
      " -- merit function (SSE) M = 1079.683208.5f \n",
      "\n",
      "\n"
     ]
    }
   ],
   "source": [
    "res.print_summary(loglike)"
   ]
  },
  {
   "cell_type": "markdown",
   "metadata": {
    "deletable": true,
    "editable": true
   },
   "source": [
    "### Likelihood Ratios\n",
    "\n",
    "The parameter estimation code has more functionality than act as a simple wrapper around `scipy.optimize`. For example, it allows for easy computation of likelihood ratios.\n",
    "\n",
    "To demonstrate that, let's make a broken power law model"
   ]
  },
  {
   "cell_type": "code",
   "execution_count": 38,
   "metadata": {
    "collapsed": false,
    "deletable": true,
    "editable": true
   },
   "outputs": [],
   "source": [
    "# broken power law model\n",
    "bpl = models.BrokenPowerLaw1D()\n",
    "\n",
    "# add constant\n",
    "bplc = bpl + c"
   ]
  },
  {
   "cell_type": "code",
   "execution_count": 39,
   "metadata": {
    "collapsed": false,
    "deletable": true,
    "editable": true
   },
   "outputs": [
    {
     "data": {
      "text/plain": [
       "('amplitude_0', 'x_break_0', 'alpha_1_0', 'alpha_2_0', 'amplitude_1')"
      ]
     },
     "execution_count": 39,
     "metadata": {},
     "output_type": "execute_result"
    }
   ],
   "source": [
    "bplc.param_names"
   ]
  },
  {
   "cell_type": "code",
   "execution_count": 40,
   "metadata": {
    "collapsed": true,
    "deletable": true,
    "editable": true
   },
   "outputs": [],
   "source": [
    "# define starting parameters\n",
    "bplc_start_pars = [2.0, 1.0, 3.0, 1.0, 2.5]"
   ]
  },
  {
   "cell_type": "code",
   "execution_count": 41,
   "metadata": {
    "collapsed": false,
    "deletable": true,
    "editable": true
   },
   "outputs": [
    {
     "name": "stderr",
     "output_type": "stream",
     "text": [
      "/opt/local/Library/Frameworks/Python.framework/Versions/3.5/lib/python3.5/site-packages/astropy/modeling/powerlaws.py:114: RuntimeWarning: invalid value encountered in power\n",
      "  return amplitude * xx ** (-alpha)\n"
     ]
    },
    {
     "data": {
      "text/plain": [
       "0.36021969359353534"
      ]
     },
     "execution_count": 41,
     "metadata": {},
     "output_type": "execute_result"
    }
   ],
   "source": [
    "parest.compute_lrt(plc, starting_pars, bplc, bplc_start_pars)"
   ]
  },
  {
   "cell_type": "markdown",
   "metadata": {
    "deletable": true,
    "editable": true
   },
   "source": [
    "\n",
    "## Bayesian Parameter Estimation\n",
    "\n",
    "For Bayesian parameter estimation, we require a prior along with the likelihood defined above. Together, they form the *posterior*, the probability of the parameters given the data, which is what we generally want to compute in science.\n",
    "\n",
    "Since there are no universally accepted priors for a model (they depend on the problem at hand and your physical knowledge about the system), they cannot be easily hard-coded in stingray. Consequently, setting priors is slightly more complex. \n",
    "\n",
    "Analogously to the `LogLikelihood` above, we can also define a `Posterior` object. Each posterior object has three methods: `logprior`, `loglikelihood` and `logposterior`. \n",
    "\n",
    "We have pre-defined some `Posterior` objects in `posterior.py` for common problems, including power spectral analysis. We start by making a `PSDPosterior` object:"
   ]
  },
  {
   "cell_type": "code",
   "execution_count": 42,
   "metadata": {
    "collapsed": true,
    "deletable": true,
    "editable": true
   },
   "outputs": [],
   "source": [
    "from stingray.modeling import PSDPosterior"
   ]
  },
  {
   "cell_type": "code",
   "execution_count": 43,
   "metadata": {
    "collapsed": true,
    "deletable": true,
    "editable": true
   },
   "outputs": [],
   "source": [
    "lpost = PSDPosterior(ps, plc)"
   ]
  },
  {
   "cell_type": "markdown",
   "metadata": {
    "deletable": true,
    "editable": true
   },
   "source": [
    "The priors are set as a dictionary of functions:"
   ]
  },
  {
   "cell_type": "code",
   "execution_count": 44,
   "metadata": {
    "collapsed": true,
    "deletable": true,
    "editable": true
   },
   "outputs": [],
   "source": [
    "import scipy.stats\n",
    "\n",
    "# flat prior for the power law index\n",
    "p_alpha = lambda alpha: ((-1. <= alpha) & (alpha <= 5.))\n",
    "\n",
    "# flat prior for the power law amplitude\n",
    "p_amplitude = lambda amplitude: ((0.01 <= amplitude) & (amplitude <= 10.0))\n",
    "\n",
    "# normal prior for the white noise parameter\n",
    "p_whitenoise = lambda white_noise: scipy.stats.norm(2.0, 0.1).pdf(white_noise)\n",
    "\n",
    "priors = {}\n",
    "priors[\"alpha_0\"] = p_alpha\n",
    "priors[\"amplitude_0\"] = p_amplitude\n",
    "priors[\"amplitude_1\"] = p_whitenoise\n"
   ]
  },
  {
   "cell_type": "markdown",
   "metadata": {
    "deletable": true,
    "editable": true
   },
   "source": [
    "There's a function `set_logprior` in `stingray.modeling` that sets the prior correctly:"
   ]
  },
  {
   "cell_type": "code",
   "execution_count": 45,
   "metadata": {
    "collapsed": false,
    "deletable": true,
    "editable": true
   },
   "outputs": [],
   "source": [
    "from stingray.modeling import set_logprior"
   ]
  },
  {
   "cell_type": "code",
   "execution_count": 46,
   "metadata": {
    "collapsed": false,
    "deletable": true,
    "editable": true
   },
   "outputs": [],
   "source": [
    "lpost.logprior = set_logprior(lpost, priors)"
   ]
  },
  {
   "cell_type": "markdown",
   "metadata": {
    "deletable": true,
    "editable": true
   },
   "source": [
    "You can also set the priors when you instantiate the posterior object:"
   ]
  },
  {
   "cell_type": "code",
   "execution_count": 47,
   "metadata": {
    "collapsed": true,
    "deletable": true,
    "editable": true
   },
   "outputs": [],
   "source": [
    "lpost = PSDPosterior(ps, plc, priors=priors)"
   ]
  },
  {
   "cell_type": "markdown",
   "metadata": {
    "deletable": true,
    "editable": true
   },
   "source": [
    "Much like before with the log-likelihood, we can now also compute the log-posterior for various test parameter sets:"
   ]
  },
  {
   "cell_type": "code",
   "execution_count": 48,
   "metadata": {
    "collapsed": false,
    "deletable": true,
    "editable": true
   },
   "outputs": [
    {
     "name": "stdout",
     "output_type": "stream",
     "text": [
      "log-prior: -198.61635344\n",
      "log-likelihood: -2412.24935946\n",
      "log-posterior: -2610.8657129\n"
     ]
    }
   ],
   "source": [
    "test_pars = [1.0, 2.0, 4.0]\n",
    "print(\"log-prior: \" + str(lpost.logprior(test_pars)))\n",
    "print(\"log-likelihood: \" + str(lpost.loglikelihood(test_pars)))\n",
    "print(\"log-posterior: \" + str(lpost(test_pars)))"
   ]
  },
  {
   "cell_type": "markdown",
   "metadata": {
    "deletable": true,
    "editable": true
   },
   "source": [
    "When the prior is zero (so the log-prior is -infinity), it automatically gets set to a very small value in order to avoid problems when doing the optimization:"
   ]
  },
  {
   "cell_type": "code",
   "execution_count": 49,
   "metadata": {
    "collapsed": false,
    "deletable": true,
    "editable": true
   },
   "outputs": [
    {
     "name": "stdout",
     "output_type": "stream",
     "text": [
      "log-prior: -1e+16\n",
      "log-likelihood: -2534.05678262\n",
      "log-posterior: -1e+16\n"
     ]
    },
    {
     "name": "stderr",
     "output_type": "stream",
     "text": [
      "/Users/danielahuppenkothen/work/repositories/stingray/stingray/modeling/posterior.py:128: RuntimeWarning: divide by zero encountered in log\n",
      "  logp += np.log(priors[pname](t0[ii]))\n"
     ]
    }
   ],
   "source": [
    "test_pars = [6, 6, 3.0]\n",
    "print(\"log-prior: \" + str(lpost.logprior(test_pars)))\n",
    "print(\"log-likelihood: \" + str(lpost.loglikelihood(test_pars)))\n",
    "print(\"log-posterior: \" + str(lpost(test_pars)))"
   ]
  },
  {
   "cell_type": "code",
   "execution_count": 50,
   "metadata": {
    "collapsed": false,
    "deletable": true,
    "editable": true
   },
   "outputs": [
    {
     "name": "stdout",
     "output_type": "stream",
     "text": [
      "log-prior: 1.38364655979\n",
      "log-likelihood: -2184.67395364\n",
      "log-posterior: -2183.29030708\n"
     ]
    }
   ],
   "source": [
    "test_pars = [5.0, 2.0, 2.0]\n",
    "print(\"log-prior: \" + str(lpost.logprior(test_pars)))\n",
    "print(\"log-likelihood: \" + str(lpost.loglikelihood(test_pars)))\n",
    "print(\"log-posterior: \" + str(lpost(test_pars)))"
   ]
  },
  {
   "cell_type": "markdown",
   "metadata": {
    "deletable": true,
    "editable": true
   },
   "source": [
    "We can do the same parameter estimation as above, except now it's called maximum-a-posteriori instead of maximum likelihood and includes the prior:"
   ]
  },
  {
   "cell_type": "code",
   "execution_count": 51,
   "metadata": {
    "collapsed": false,
    "deletable": true,
    "editable": true
   },
   "outputs": [
    {
     "name": "stderr",
     "output_type": "stream",
     "text": [
      "/Users/danielahuppenkothen/work/repositories/stingray/stingray/modeling/posterior.py:318: RuntimeWarning: invalid value encountered in log\n",
      "  loglike = -np.sum(np.log(mean_model)) - \\\n",
      "/Users/danielahuppenkothen/work/repositories/stingray/stingray/modeling/posterior.py:128: RuntimeWarning: divide by zero encountered in log\n",
      "  logp += np.log(priors[pname](t0[ii]))\n"
     ]
    }
   ],
   "source": [
    "parest = PSDParEst(ps, fitmethod='BFGS', max_post=True)\n",
    "res = parest.fit(plc, starting_pars, priors=priors)"
   ]
  },
  {
   "cell_type": "code",
   "execution_count": 52,
   "metadata": {
    "collapsed": false,
    "deletable": true,
    "editable": true
   },
   "outputs": [
    {
     "name": "stdout",
     "output_type": "stream",
     "text": [
      "best-fit parameters:\n",
      "4.8949 +/- 0.5649\n",
      "2.0690 +/- 0.0860\n",
      "2.0547 +/- 0.0696\n"
     ]
    }
   ],
   "source": [
    "print(\"best-fit parameters:\")\n",
    "for p,e in zip(res.p_opt, res.err):\n",
    "    print(\"%.4f +/- %.4f\"%(p,e))"
   ]
  },
  {
   "cell_type": "markdown",
   "metadata": {
    "deletable": true,
    "editable": true
   },
   "source": [
    "The same outputs exist as for the Maximum Likelihood case:"
   ]
  },
  {
   "cell_type": "code",
   "execution_count": 53,
   "metadata": {
    "collapsed": false,
    "deletable": true,
    "editable": true
   },
   "outputs": [
    {
     "name": "stdout",
     "output_type": "stream",
     "text": [
      "The best-fit model parameters plus errors are:\n",
      "0) Parameter amplitude_0: 4.894908.5 +/- 0.564932.5f\n",
      "1) Parameter alpha_0: 2.068983.5 +/- 0.086031.5f\n",
      "2) Parameter amplitude_1: 2.054709.5 +/- 0.069586.5f\n",
      "\n",
      "\n",
      "Fitting statistics: \n",
      " -- number of data points: 1000\n",
      " -- Deviance [-2 log L] D = 4367.845865.3\n",
      " -- The Akaike Information Criterion of the model is: 2188.6889410986455.\n",
      " -- The Bayesian Information Criterion of the model is: 2203.41220694.\n",
      " -- The figure-of-merit function for this model  is: 1104.687008.5f and the fit for 997 dof is 1.108011.3f\n",
      " -- Summed Residuals S = 75870.939105.5f\n",
      " -- Expected S ~ 6000.000000.5 +/- 109.544512.5\n",
      " -- merit function (SSE) M = 1104.687008.5f \n",
      "\n",
      "\n"
     ]
    }
   ],
   "source": [
    "res.print_summary(lpost)"
   ]
  },
  {
   "cell_type": "markdown",
   "metadata": {
    "deletable": true,
    "editable": true
   },
   "source": [
    "Unlike in the maximum likelihood case, we can also *sample* from the posterior probability distribution. The method `sample` uses the [emcee]() package to do MCMC. \n",
    "\n",
    "**Note**: Do *not* sample from the likelihood function. This is formally incorrect and can lead to incorrect inferences about the problem!\n",
    "\n",
    "Much like the optimizer, the sampling method requires a model and a set of starting parameters `t0`. Optionally, it can be useful to also input a covariance matrix, for example from the output of the optimizer.\n",
    "\n",
    "Finally, the user should specify the number of walkers as well as the number of steps to use for both burn-in and sampling:\n"
   ]
  },
  {
   "cell_type": "code",
   "execution_count": 56,
   "metadata": {
    "collapsed": false,
    "deletable": true,
    "editable": true
   },
   "outputs": [
    {
     "name": "stdout",
     "output_type": "stream",
     "text": [
      "Chains too short to compute autocorrelation lengths.\n",
      "-- The acceptance fraction is: 0.646180.5\n",
      "R_hat for the parameters is: [ 0.32098944  0.00725128  0.0045778 ]\n",
      "-- Posterior Summary of Parameters: \n",
      "\n",
      "parameter \t mean \t\t sd \t\t 5% \t\t 95% \n",
      "\n",
      "---------------------------------------------\n",
      "\n",
      "theta[0] \t 4.95334091124\t0.568275869782\t3.25699022148\t3.69817069396\n",
      "\n",
      "theta[1] \t 2.07590849754\t0.0854098381958\t1.82243748485\t1.88712165725\n",
      "\n",
      "theta[2] \t 2.05317824739\t0.0678664544072\t1.84965712284\t1.89701432686\n",
      "\n"
     ]
    }
   ],
   "source": [
    "sample = parest.sample(plc, res.p_opt, cov=res.cov, priors=priors, nwalkers=500,\n",
    "             niter=100, burnin=200, namestr=\"psd_modeling_test\")"
   ]
  },
  {
   "cell_type": "markdown",
   "metadata": {
    "deletable": true,
    "editable": true
   },
   "source": [
    "The sampling method returns an object with various attributes that are useful for further analysis, for example the acceptance fraction:"
   ]
  },
  {
   "cell_type": "code",
   "execution_count": 58,
   "metadata": {
    "collapsed": false,
    "deletable": true,
    "editable": true
   },
   "outputs": [
    {
     "data": {
      "text/plain": [
       "0.64618000000000009"
      ]
     },
     "execution_count": 58,
     "metadata": {},
     "output_type": "execute_result"
    }
   ],
   "source": [
    "sample.acceptance"
   ]
  },
  {
   "cell_type": "markdown",
   "metadata": {
    "deletable": true,
    "editable": true
   },
   "source": [
    "Or the mean and confidence intervals of the parameters:"
   ]
  },
  {
   "cell_type": "code",
   "execution_count": 59,
   "metadata": {
    "collapsed": false,
    "deletable": true,
    "editable": true
   },
   "outputs": [
    {
     "data": {
      "text/plain": [
       "array([ 4.95334091,  2.0759085 ,  2.05317825])"
      ]
     },
     "execution_count": 59,
     "metadata": {},
     "output_type": "execute_result"
    }
   ],
   "source": [
    "sample.mean"
   ]
  },
  {
   "cell_type": "code",
   "execution_count": 60,
   "metadata": {
    "collapsed": false,
    "deletable": true,
    "editable": true
   },
   "outputs": [
    {
     "data": {
      "text/plain": [
       "array([[ 3.25699022,  1.82243748,  1.84965712],\n",
       "       [ 3.69817069,  1.88712166,  1.89701433]])"
      ]
     },
     "execution_count": 60,
     "metadata": {},
     "output_type": "execute_result"
    }
   ],
   "source": [
    "sample.ci"
   ]
  },
  {
   "cell_type": "markdown",
   "metadata": {
    "deletable": true,
    "editable": true
   },
   "source": [
    "The method `print_results` prints the results:"
   ]
  },
  {
   "cell_type": "code",
   "execution_count": 61,
   "metadata": {
    "collapsed": false,
    "deletable": true,
    "editable": true
   },
   "outputs": [
    {
     "name": "stdout",
     "output_type": "stream",
     "text": [
      "-- The acceptance fraction is: 0.646180.5\n",
      "R_hat for the parameters is: [ 0.32098944  0.00725128  0.0045778 ]\n",
      "-- Posterior Summary of Parameters: \n",
      "\n",
      "parameter \t mean \t\t sd \t\t 5% \t\t 95% \n",
      "\n",
      "---------------------------------------------\n",
      "\n",
      "theta[0] \t 4.95334091124\t0.568275869782\t3.25699022148\t3.69817069396\n",
      "\n",
      "theta[1] \t 2.07590849754\t0.0854098381958\t1.82243748485\t1.88712165725\n",
      "\n",
      "theta[2] \t 2.05317824739\t0.0678664544072\t1.84965712284\t1.89701432686\n",
      "\n"
     ]
    }
   ],
   "source": [
    "sample.print_results()"
   ]
  },
  {
   "cell_type": "markdown",
   "metadata": {
    "deletable": true,
    "editable": true
   },
   "source": [
    "Similarly, the method `plot_results` produces a bunch of plots:"
   ]
  },
  {
   "cell_type": "code",
   "execution_count": 62,
   "metadata": {
    "collapsed": false,
    "deletable": true,
    "editable": true
   },
   "outputs": [],
   "source": [
    "sample.plot_results(\"modeling_tutorial_mcmc_corner.pdf\")"
   ]
  },
  {
   "cell_type": "markdown",
   "metadata": {
    "deletable": true,
    "editable": true
   },
   "source": [
    "## Convenience Function\n",
    "\n",
    "For convenience, we have implemented some simple functions to reduce overhead with having to instantiate objects of the various classes.\n",
    "\n",
    "Note that these convenience function use similar approaches and guesses in all cases; this might work for some simple quicklook analysis, but when preparing publication-ready results, one should approach the analysis with more care and make sure the options chosen are appropriate for the problem at hand.\n",
    "\n",
    "### Fitting Lorentzians\n",
    "\n",
    "Fitting Lorentzians to power spectra is a routine task for most astronomers working with power spectra, hence there is a function that can produce either Maximum Likelihood or Maximum-A-Posteriori fits of the data."
   ]
  },
  {
   "cell_type": "code",
   "execution_count": 70,
   "metadata": {
    "collapsed": true
   },
   "outputs": [],
   "source": [
    "l = models.Lorentz1D"
   ]
  },
  {
   "cell_type": "code",
   "execution_count": 71,
   "metadata": {
    "collapsed": false
   },
   "outputs": [
    {
     "data": {
      "text/plain": [
       "('amplitude', 'x_0', 'fwhm')"
      ]
     },
     "execution_count": 71,
     "metadata": {},
     "output_type": "execute_result"
    }
   ],
   "source": [
    "l.param_names"
   ]
  },
  {
   "cell_type": "code",
   "execution_count": 137,
   "metadata": {
    "collapsed": true
   },
   "outputs": [],
   "source": [
    "def fit_lorentzians(ps, nlor, starting_pars, fit_whitenoise=True, max_post=False, priors=None,\n",
    "                    fitmethod=\"L-BFGS-B\"):\n",
    "    \n",
    "    model = models.Lorentz1D()\n",
    "    \n",
    "    if nlor > 1:\n",
    "        for i in range(nlor-1):\n",
    "            model += models.Lorentz1D()\n",
    "            \n",
    "    if fit_whitenoise:\n",
    "        model += models.Const1D()\n",
    "    \n",
    "    parest = PSDParEst(ps, fitmethod=fitmethod, max_post=max_post)\n",
    "    res = parest.fit(model, starting_pars, neg=True, priors=priors)\n",
    "    \n",
    "    return parest, res"
   ]
  },
  {
   "cell_type": "markdown",
   "metadata": {},
   "source": [
    "Let's make a dataset so we can test it!"
   ]
  },
  {
   "cell_type": "code",
   "execution_count": 138,
   "metadata": {
    "collapsed": false
   },
   "outputs": [
    {
     "data": {
      "text/plain": [
       "[<matplotlib.lines.Line2D at 0x11bb70160>]"
      ]
     },
     "execution_count": 138,
     "metadata": {},
     "output_type": "execute_result"
    },
    {
     "data": {
      "image/png": "[encoded data removed]",
      "text/plain": [
       "<matplotlib.figure.Figure at 0x11aa887f0>"
      ]
     },
     "metadata": {},
     "output_type": "display_data"
    }
   ],
   "source": [
    "np.random.seed(400)\n",
    "nlor = 3\n",
    "\n",
    "x_0_0 = 0.5\n",
    "x_0_1 = 2.0\n",
    "x_0_2 = 7.5\n",
    "\n",
    "amplitude_0 = 150.0\n",
    "amplitude_1 = 50.0\n",
    "amplitude_2 = 15.0\n",
    "\n",
    "fwhm_0 = 0.1\n",
    "fwhm_1 = 1.0\n",
    "fwhm_2 = 0.5\n",
    "\n",
    "whitenoise = 2.0\n",
    "\n",
    "model = models.Lorentz1D(amplitude_0, x_0_0, fwhm_0) + \\\n",
    "        models.Lorentz1D(amplitude_1, x_0_1, fwhm_1) + \\\n",
    "        models.Lorentz1D(amplitude_2, x_0_2, fwhm_2) + \\\n",
    "        models.Const1D(whitenoise)\n",
    "        \n",
    "p = model(ps.freq)\n",
    "noise = np.random.exponential(size=len(ps.freq))\n",
    "\n",
    "power = p*noise\n",
    "\n",
    "plt.figure()\n",
    "plt.loglog(ps.freq, power, lw=1, linestyle=\"steps-mid\", c=\"black\")\n",
    "plt.loglog(ps.freq, p, lw=3, color=\"red\")"
   ]
  },
  {
   "cell_type": "markdown",
   "metadata": {},
   "source": [
    "Let's make this into a `Powerspectrum` object:"
   ]
  },
  {
   "cell_type": "code",
   "execution_count": 139,
   "metadata": {
    "collapsed": false
   },
   "outputs": [],
   "source": [
    "import copy"
   ]
  },
  {
   "cell_type": "code",
   "execution_count": 140,
   "metadata": {
    "collapsed": true
   },
   "outputs": [],
   "source": [
    "ps_new = copy.copy(ps)"
   ]
  },
  {
   "cell_type": "code",
   "execution_count": 141,
   "metadata": {
    "collapsed": true
   },
   "outputs": [],
   "source": [
    "ps_new.power = power"
   ]
  },
  {
   "cell_type": "markdown",
   "metadata": {},
   "source": [
    "So now we can fit this model with our new function, but first, we need to define the starting parameters for our fit. The starting parameters will be `[amplitude, x_0, fwhm]` for each component plus the white noise component at the end:"
   ]
  },
  {
   "cell_type": "code",
   "execution_count": 146,
   "metadata": {
    "collapsed": false
   },
   "outputs": [
    {
     "name": "stdout",
     "output_type": "stream",
     "text": [
      "10\n"
     ]
    }
   ],
   "source": [
    "t0 = [150, 0.4, 0.2, 50, 2.3, 0.6, 20, 8.0, 0.4, 2.1]\n",
    "parest, res = fit_lorentzians(ps_new, nlor, t0)"
   ]
  },
  {
   "cell_type": "markdown",
   "metadata": {},
   "source": [
    "Let's look at the output:"
   ]
  },
  {
   "cell_type": "code",
   "execution_count": 147,
   "metadata": {
    "collapsed": false
   },
   "outputs": [
    {
     "data": {
      "text/plain": [
       "array([  1.48618601e+02,   4.85309532e-01,   1.16289287e-01,\n",
       "         3.99339116e+01,   2.07688123e+00,   1.11819445e+00,\n",
       "         1.36761112e+01,   7.53307692e+00,   5.53395515e-01,\n",
       "         1.90341056e+00])"
      ]
     },
     "execution_count": 147,
     "metadata": {},
     "output_type": "execute_result"
    }
   ],
   "source": [
    "res.p_opt"
   ]
  },
  {
   "cell_type": "markdown",
   "metadata": {},
   "source": [
    "Cool, that seems to work! For convenience `PSDParEst` also has a plotting function:"
   ]
  },
  {
   "cell_type": "code",
   "execution_count": 154,
   "metadata": {
    "collapsed": false
   },
   "outputs": [
    {
     "data": {
      "image/png": "[encoded data removed]",
      "text/plain": [
       "<matplotlib.figure.Figure at 0x11c243b00>"
      ]
     },
     "metadata": {},
     "output_type": "display_data"
    }
   ],
   "source": [
    "parest.plotfits(res, save_plot=False, namestr=\"lorentzian_test\")"
   ]
  },
  {
   "cell_type": "markdown",
   "metadata": {},
   "source": [
    "The function exists in the library as well for ease of use:"
   ]
  },
  {
   "cell_type": "code",
   "execution_count": 156,
   "metadata": {
    "collapsed": true
   },
   "outputs": [],
   "source": [
    "from stingray.modeling import fit_lorentzians"
   ]
  },
  {
   "cell_type": "code",
   "execution_count": 158,
   "metadata": {
    "collapsed": false
   },
   "outputs": [],
   "source": [
    "parest, res = fit_lorentzians(ps_new, nlor, t0)"
   ]
  },
  {
   "cell_type": "code",
   "execution_count": 159,
   "metadata": {
    "collapsed": false
   },
   "outputs": [
    {
     "data": {
      "text/plain": [
       "array([  1.48264667e+02,   4.85309402e-01,   1.16463939e-01,\n",
       "         3.99347744e+01,   2.07689790e+00,   1.11811197e+00,\n",
       "         1.36772599e+01,   7.53307220e+00,   5.53313592e-01,\n",
       "         1.90357433e+00])"
      ]
     },
     "execution_count": 159,
     "metadata": {},
     "output_type": "execute_result"
    }
   ],
   "source": [
    "res.p_opt"
   ]
  },
  {
   "cell_type": "markdown",
   "metadata": {},
   "source": [
    "And we're done!"
   ]
  }
 ],
 "metadata": {
  "kernelspec": {
   "display_name": "Python 3",
   "language": "python",
   "name": "python3"
  },
  "language_info": {
   "codemirror_mode": {
    "name": "ipython",
    "version": 3
   },
   "file_extension": ".py",
   "mimetype": "text/x-python",
   "name": "python",
   "nbconvert_exporter": "python",
   "pygments_lexer": "ipython3",
   "version": "3.5.3"
  }
 },
 "nbformat": 4,
 "nbformat_minor": 0
}
