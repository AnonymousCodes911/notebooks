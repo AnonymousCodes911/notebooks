{
 "cells": [
  {
   "cell_type": "markdown",
   "metadata": {},
   "source": [
    "## Window functions"
   ]
  },
  {
   "cell_type": "markdown",
   "metadata": {},
   "source": [
    "`Stingray` now has a bunch of window functions that can be used for various applications in signal processing.\n",
    "\n",
    "Windows available include:\n",
    "1. Uniform or Rectangular Window\n",
    "2. Parzen window\n",
    "3. Hamming window\n",
    "4. Hanning Window\n",
    "5. Triangular window\n",
    "6. Welch Window\n",
    "7. Blackmann Window\n",
    "8. Flat-top Window"
   ]
  },
  {
   "cell_type": "markdown",
   "metadata": {},
   "source": [
    "All windows are available in `stingray.utils` package and called be used by calling `create_window` function. Below are some of the examples demonstrating different window functions. "
   ]
  },
  {
   "cell_type": "code",
   "execution_count": null,
   "metadata": {},
   "outputs": [],
   "source": [
    "from stingray.utils import create_window\n",
    "\n",
    "from scipy.fftpack import fft, fftshift, fftfreq\n",
    "import numpy as np\n",
    "\n",
    "import matplotlib.pyplot as plt\n",
    "%matplotlib inline"
   ]
  },
  {
   "cell_type": "markdown",
   "metadata": {},
   "source": [
    "`create_window` function in `stingray.utils` takes two parameters. \n",
    "\n",
    "1. `N` : Number of data points in the window\n",
    "2. `window_type` : Type of window to create. Default is `uniform`."
   ]
  },
  {
   "cell_type": "markdown",
   "metadata": {},
   "source": [
    "## Uniform Window "
   ]
  },
  {
   "cell_type": "code",
   "execution_count": null,
   "metadata": {},
   "outputs": [],
   "source": [
    "N = 100\n",
    "window = create_window(N)"
   ]
  },
  {
   "cell_type": "code",
   "execution_count": null,
   "metadata": {},
   "outputs": [],
   "source": [
    "plt.plot(window)\n",
    "plt.title(\"Uniform window\")\n",
    "plt.ylabel(\"Amplitude\")\n",
    "plt.xlabel(\"Sample Number (n)\")"
   ]
  },
  {
   "cell_type": "code",
   "execution_count": null,
   "metadata": {},
   "outputs": [],
   "source": [
    "nfft = 2048\n",
    "A = fft(window,nfft ) / (len(window)/2.0)\n",
    "freq = fftfreq(nfft)\n",
    "response = 20 * np.log10(np.abs(fftshift(A/(abs(A).max()))))\n",
    "plt.plot(freq, response)\n",
    "plt.title(\"Frequency response of the Uniform window\")\n",
    "plt.ylabel(\"Magnitude [dB]\")\n",
    "plt.xlabel(\"Normalized frequency [cycles per sample]\")"
   ]
  },
  {
   "cell_type": "markdown",
   "metadata": {},
   "source": [
    "## Parzen Window"
   ]
  },
  {
   "cell_type": "code",
   "execution_count": null,
   "metadata": {},
   "outputs": [],
   "source": [
    "N = 100\n",
    "window = create_window(N, window_type='parzen')"
   ]
  },
  {
   "cell_type": "code",
   "execution_count": null,
   "metadata": {},
   "outputs": [],
   "source": [
    "plt.plot(window)\n",
    "plt.title(\"Parzen window\")\n",
    "plt.ylabel(\"Amplitude\")\n",
    "plt.xlabel(\"Sample Number (n)\")"
   ]
  },
  {
   "cell_type": "code",
   "execution_count": null,
   "metadata": {},
   "outputs": [],
   "source": [
    "nfft = 2048\n",
    "A = fft(window,nfft ) / (len(window)/2.0)\n",
    "freq = fftfreq(nfft)\n",
    "response = 20 * np.log10(np.abs(fftshift(A/(abs(A).max()))))\n",
    "plt.plot(freq, response)\n",
    "plt.title(\"Frequency response of the Parzen window\")\n",
    "plt.ylabel(\"Magnitude [dB]\")\n",
    "plt.xlabel(\"Normalized frequency [cycles per sample]\")"
   ]
  },
  {
   "cell_type": "markdown",
   "metadata": {},
   "source": [
    "## Hamming Window"
   ]
  },
  {
   "cell_type": "code",
   "execution_count": null,
   "metadata": {},
   "outputs": [],
   "source": [
    "N = 50\n",
    "window = create_window(N, window_type='hamming')"
   ]
  },
  {
   "cell_type": "code",
   "execution_count": null,
   "metadata": {},
   "outputs": [],
   "source": [
    "plt.plot(window)\n",
    "plt.title(\"Hamming window\")\n",
    "plt.ylabel(\"Amplitude\")\n",
    "plt.xlabel(\"Sample Number (n)\")"
   ]
  },
  {
   "cell_type": "code",
   "execution_count": null,
   "metadata": {},
   "outputs": [],
   "source": [
    "nfft = 2048\n",
    "A = fft(window,nfft ) / (len(window)/2.0)\n",
    "freq = fftfreq(nfft)\n",
    "response = 20 * np.log10(np.abs(fftshift(A/(abs(A).max()))))\n",
    "plt.plot(freq, response)\n",
    "plt.title(\"Frequency response of the Hamming window\")\n",
    "plt.ylabel(\"Magnitude [dB]\")\n",
    "plt.xlabel(\"Normalized frequency [cycles per sample]\")"
   ]
  },
  {
   "cell_type": "markdown",
   "metadata": {},
   "source": [
    "## Hanning Window"
   ]
  },
  {
   "cell_type": "code",
   "execution_count": null,
   "metadata": {},
   "outputs": [],
   "source": [
    "N = 50\n",
    "window = create_window(N, window_type='hanning')"
   ]
  },
  {
   "cell_type": "code",
   "execution_count": null,
   "metadata": {},
   "outputs": [],
   "source": [
    "plt.plot(window)\n",
    "plt.title(\"Hanning window\")\n",
    "plt.ylabel(\"Amplitude\")\n",
    "plt.xlabel(\"Sample Number (n)\")"
   ]
  },
  {
   "cell_type": "code",
   "execution_count": null,
   "metadata": {},
   "outputs": [],
   "source": [
    "nfft = 2048\n",
    "A = fft(window,nfft ) / (len(window)/2.0)\n",
    "freq = fftfreq(nfft)\n",
    "response = 20 * np.log10(np.abs(fftshift(A/(abs(A).max()))))\n",
    "plt.plot(freq, response)\n",
    "plt.title(\"Frequency response of the Hanning window\")\n",
    "plt.ylabel(\"Magnitude [dB]\")\n",
    "plt.xlabel(\"Normalized frequency [cycles per sample]\")"
   ]
  },
  {
   "cell_type": "markdown",
   "metadata": {},
   "source": [
    "## Traingular Window"
   ]
  },
  {
   "cell_type": "code",
   "execution_count": null,
   "metadata": {},
   "outputs": [],
   "source": [
    "N = 50\n",
    "window = create_window(N, window_type='triangular')"
   ]
  },
  {
   "cell_type": "code",
   "execution_count": null,
   "metadata": {},
   "outputs": [],
   "source": [
    "plt.plot(window)\n",
    "plt.title(\"Traingualr window\")\n",
    "plt.ylabel(\"Amplitude\")\n",
    "plt.xlabel(\"Sample Number (n)\")"
   ]
  },
  {
   "cell_type": "code",
   "execution_count": null,
   "metadata": {},
   "outputs": [],
   "source": [
    "nfft = 2048\n",
    "A = fft(window,nfft ) / (len(window)/2.0)\n",
    "freq = fftfreq(nfft)\n",
    "response = 20 * np.log10(np.abs(fftshift(A/(abs(A).max()))))\n",
    "plt.plot(freq, response)\n",
    "plt.title(\"Frequency response of the Triangular window\")\n",
    "plt.ylabel(\"Magnitude [dB]\")\n",
    "plt.xlabel(\"Normalized frequency [cycles per sample]\")"
   ]
  },
  {
   "cell_type": "markdown",
   "metadata": {},
   "source": [
    "## Welch Window"
   ]
  },
  {
   "cell_type": "code",
   "execution_count": null,
   "metadata": {},
   "outputs": [],
   "source": [
    "N = 50\n",
    "window = create_window(N, window_type='welch')"
   ]
  },
  {
   "cell_type": "code",
   "execution_count": null,
   "metadata": {},
   "outputs": [],
   "source": [
    "plt.plot(window)\n",
    "plt.title(\"Welch window\")\n",
    "plt.ylabel(\"Amplitude\")\n",
    "plt.xlabel(\"Sample Number (n)\")"
   ]
  },
  {
   "cell_type": "code",
   "execution_count": null,
   "metadata": {},
   "outputs": [],
   "source": [
    "nfft = 2048\n",
    "A = fft(window,nfft ) / (len(window)/2.0)\n",
    "freq = fftfreq(nfft)\n",
    "response = 20 * np.log10(np.abs(fftshift(A/(abs(A).max()))))\n",
    "plt.plot(freq, response)\n",
    "plt.title(\"Frequency response of the Welch window\")\n",
    "plt.ylabel(\"Magnitude [dB]\")\n",
    "plt.xlabel(\"Normalized frequency [cycles per sample]\")"
   ]
  },
  {
   "cell_type": "markdown",
   "metadata": {},
   "source": [
    "## Blackmann's Window"
   ]
  },
  {
   "cell_type": "code",
   "execution_count": null,
   "metadata": {},
   "outputs": [],
   "source": [
    "N = 50\n",
    "window = create_window(N, window_type='blackmann')"
   ]
  },
  {
   "cell_type": "code",
   "execution_count": null,
   "metadata": {},
   "outputs": [],
   "source": [
    "plt.plot(window)\n",
    "plt.title(\"Blackmann window\")\n",
    "plt.ylabel(\"Amplitude\")\n",
    "plt.xlabel(\"Sample Number (n)\")"
   ]
  },
  {
   "cell_type": "code",
   "execution_count": null,
   "metadata": {},
   "outputs": [],
   "source": [
    "nfft = 2048\n",
    "A = fft(window,nfft ) / (len(window)/2.0)\n",
    "freq = fftfreq(nfft)\n",
    "response = 20 * np.log10(np.abs(fftshift(A/(abs(A).max()))))\n",
    "plt.plot(freq, response)\n",
    "plt.title(\"Frequency response of the Blackmann window\")\n",
    "plt.ylabel(\"Magnitude [dB]\")\n",
    "plt.xlabel(\"Normalized frequency [cycles per sample]\")"
   ]
  },
  {
   "cell_type": "markdown",
   "metadata": {},
   "source": [
    "## Flat Top Window"
   ]
  },
  {
   "cell_type": "code",
   "execution_count": null,
   "metadata": {},
   "outputs": [],
   "source": [
    "N = 50\n",
    "window = create_window(N, window_type='flat-top')"
   ]
  },
  {
   "cell_type": "code",
   "execution_count": null,
   "metadata": {},
   "outputs": [],
   "source": [
    "plt.plot(window)\n",
    "plt.title(\"Flat-top window\")\n",
    "plt.ylabel(\"Amplitude\")\n",
    "plt.xlabel(\"Sample Number (n)\")"
   ]
  },
  {
   "cell_type": "code",
   "execution_count": null,
   "metadata": {},
   "outputs": [],
   "source": [
    "nfft = 2048\n",
    "A = fft(window,nfft ) / (len(window)/2.0)\n",
    "freq = fftfreq(nfft)\n",
    "response = 20 * np.log10(np.abs(fftshift(A/(abs(A).max()))))\n",
    "plt.plot(freq, response)\n",
    "plt.title(\"Frequency response of the Flat-top window\")\n",
    "plt.ylabel(\"Magnitude [dB]\")\n",
    "plt.xlabel(\"Normalized frequency [cycles per sample]\")"
   ]
  }
 ],
 "metadata": {
  "kernelspec": {
   "display_name": "Python 3",
   "language": "python",
   "name": "python3"
  },
  "language_info": {
   "codemirror_mode": {
    "name": "ipython",
    "version": 3
   },
   "file_extension": ".py",
   "mimetype": "text/x-python",
   "name": "python",
   "nbconvert_exporter": "python",
   "pygments_lexer": "ipython3",
   "version": "3.6.0"
  }
 },
 "nbformat": 4,
 "nbformat_minor": 2
}
